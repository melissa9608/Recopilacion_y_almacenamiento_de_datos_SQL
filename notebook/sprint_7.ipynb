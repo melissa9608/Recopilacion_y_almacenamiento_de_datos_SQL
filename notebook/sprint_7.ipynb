{
 "cells": [
  {
   "cell_type": "markdown",
   "metadata": {},
   "source": [
    "# Paso 4. Análisis exploratorio de datos (Python)\n"
   ]
  },
  {
   "cell_type": "markdown",
   "metadata": {},
   "source": [
    "## Importar las librerias"
   ]
  },
  {
   "cell_type": "code",
   "execution_count": 1,
   "metadata": {},
   "outputs": [],
   "source": [
    "#Inicialización\n",
    "# Cargar todas las librerías\n",
    "import pandas as pd\n",
    "import numpy as np\n",
    "import matplotlib.pyplot as plt\n",
    "import scipy.stats as stats\n",
    "from scipy import stats as st\n",
    "import seaborn as sns\n",
    "import math \n",
    "from scipy.stats import ttest_ind"
   ]
  },
  {
   "cell_type": "code",
   "execution_count": 2,
   "metadata": {},
   "outputs": [],
   "source": [
    "# Importar los archivos\n",
    "\n",
    "cabs = pd.read_csv('/datasets/project_sql_result_01.csv')\n",
    "trips = pd.read_csv('/datasets/project_sql_result_04.csv')\n",
    "neighborhoods = pd.read_csv('/datasets/project_sql_result_07.csv')"
   ]
  },
  {
   "cell_type": "markdown",
   "metadata": {},
   "source": [
    "## Evaluar los datos"
   ]
  },
  {
   "cell_type": "markdown",
   "metadata": {},
   "source": [
    "### Cabs"
   ]
  },
  {
   "cell_type": "code",
   "execution_count": 3,
   "metadata": {},
   "outputs": [
    {
     "name": "stdout",
     "output_type": "stream",
     "text": [
      "Cabs: \n",
      "\n",
      "<class 'pandas.core.frame.DataFrame'>\n",
      "RangeIndex: 64 entries, 0 to 63\n",
      "Data columns (total 2 columns):\n",
      " #   Column        Non-Null Count  Dtype \n",
      "---  ------        --------------  ----- \n",
      " 0   company_name  64 non-null     object\n",
      " 1   trips_amount  64 non-null     int64 \n",
      "dtypes: int64(1), object(1)\n",
      "memory usage: 1.1+ KB\n",
      "None\n",
      "\n"
     ]
    },
    {
     "data": {
      "text/html": [
       "<div>\n",
       "<style scoped>\n",
       "    .dataframe tbody tr th:only-of-type {\n",
       "        vertical-align: middle;\n",
       "    }\n",
       "\n",
       "    .dataframe tbody tr th {\n",
       "        vertical-align: top;\n",
       "    }\n",
       "\n",
       "    .dataframe thead th {\n",
       "        text-align: right;\n",
       "    }\n",
       "</style>\n",
       "<table border=\"1\" class=\"dataframe\">\n",
       "  <thead>\n",
       "    <tr style=\"text-align: right;\">\n",
       "      <th></th>\n",
       "      <th>company_name</th>\n",
       "      <th>trips_amount</th>\n",
       "    </tr>\n",
       "  </thead>\n",
       "  <tbody>\n",
       "    <tr>\n",
       "      <th>0</th>\n",
       "      <td>Flash Cab</td>\n",
       "      <td>19558</td>\n",
       "    </tr>\n",
       "    <tr>\n",
       "      <th>1</th>\n",
       "      <td>Taxi Affiliation Services</td>\n",
       "      <td>11422</td>\n",
       "    </tr>\n",
       "    <tr>\n",
       "      <th>2</th>\n",
       "      <td>Medallion Leasing</td>\n",
       "      <td>10367</td>\n",
       "    </tr>\n",
       "    <tr>\n",
       "      <th>3</th>\n",
       "      <td>Yellow Cab</td>\n",
       "      <td>9888</td>\n",
       "    </tr>\n",
       "    <tr>\n",
       "      <th>4</th>\n",
       "      <td>Taxi Affiliation Service Yellow</td>\n",
       "      <td>9299</td>\n",
       "    </tr>\n",
       "    <tr>\n",
       "      <th>5</th>\n",
       "      <td>Chicago Carriage Cab Corp</td>\n",
       "      <td>9181</td>\n",
       "    </tr>\n",
       "    <tr>\n",
       "      <th>6</th>\n",
       "      <td>City Service</td>\n",
       "      <td>8448</td>\n",
       "    </tr>\n",
       "    <tr>\n",
       "      <th>7</th>\n",
       "      <td>Sun Taxi</td>\n",
       "      <td>7701</td>\n",
       "    </tr>\n",
       "    <tr>\n",
       "      <th>8</th>\n",
       "      <td>Star North Management LLC</td>\n",
       "      <td>7455</td>\n",
       "    </tr>\n",
       "    <tr>\n",
       "      <th>9</th>\n",
       "      <td>Blue Ribbon Taxi Association Inc.</td>\n",
       "      <td>5953</td>\n",
       "    </tr>\n",
       "  </tbody>\n",
       "</table>\n",
       "</div>"
      ],
      "text/plain": [
       "                        company_name  trips_amount\n",
       "0                          Flash Cab         19558\n",
       "1          Taxi Affiliation Services         11422\n",
       "2                  Medallion Leasing         10367\n",
       "3                         Yellow Cab          9888\n",
       "4    Taxi Affiliation Service Yellow          9299\n",
       "5          Chicago Carriage Cab Corp          9181\n",
       "6                       City Service          8448\n",
       "7                           Sun Taxi          7701\n",
       "8          Star North Management LLC          7455\n",
       "9  Blue Ribbon Taxi Association Inc.          5953"
      ]
     },
     "metadata": {},
     "output_type": "display_data"
    },
    {
     "name": "stdout",
     "output_type": "stream",
     "text": [
      "\n",
      "Valores ausentes: \n",
      " company_name    0\n",
      "trips_amount    0\n",
      "dtype: int64\n",
      "\n",
      "Valores duplicados: \n",
      " company_name                  trips_amount\n",
      "0118 - 42111 Godfrey S. Awir  33              1\n",
      "1085 - 72312 N and W Cab Co   29              1\n",
      "Checker Taxi                  1486            1\n",
      "Checker Taxi Affiliation      2216            1\n",
      "Chicago Carriage Cab Corp     9181            1\n",
      "                                             ..\n",
      "6057 - 24657 Richard Addo     13              1\n",
      "6574 - Babylon Express Inc.   31              1\n",
      "6742 - 83735 Tasha Ride Inc   39              1\n",
      "6743 - 78771 Luhak Corp       33              1\n",
      "Yellow Cab                    9888            1\n",
      "Length: 64, dtype: int64\n"
     ]
    }
   ],
   "source": [
    "print('Cabs: ')\n",
    "print()\n",
    "# obtener iformación del DF\n",
    "print(cabs.info())\n",
    "print()\n",
    "display(cabs.head(10))\n",
    "print()\n",
    "# Evaluar valores ausentes\n",
    "print('Valores ausentes: \\n', cabs.isnull().sum())\n",
    "print()\n",
    "# Evaluar valores duplicados\n",
    "print( 'Valores duplicados: \\n',cabs.value_counts())"
   ]
  },
  {
   "cell_type": "markdown",
   "metadata": {},
   "source": [
    "El tipo de datos para el Data Frame cabs es:\n",
    "\n",
    "company_name: Tipo de dato object, su tipo de dato es correcto, puesto que el nombre de la compañía corresponde a una cadena de caracteres\n",
    "\n",
    "trips_amount: Tipo de dato int64, su tipo de dato es correcto, puesto que el número de viajes de cada compañía de taxis corresponde a un número entero.\n",
    "\n",
    "No hay vlaores ausentes ni valores duplicados."
   ]
  },
  {
   "cell_type": "markdown",
   "metadata": {},
   "source": [
    "### Trips"
   ]
  },
  {
   "cell_type": "code",
   "execution_count": 4,
   "metadata": {},
   "outputs": [
    {
     "name": "stdout",
     "output_type": "stream",
     "text": [
      "Trips: \n",
      "\n",
      "<class 'pandas.core.frame.DataFrame'>\n",
      "RangeIndex: 94 entries, 0 to 93\n",
      "Data columns (total 2 columns):\n",
      " #   Column                 Non-Null Count  Dtype  \n",
      "---  ------                 --------------  -----  \n",
      " 0   dropoff_location_name  94 non-null     object \n",
      " 1   average_trips          94 non-null     float64\n",
      "dtypes: float64(1), object(1)\n",
      "memory usage: 1.6+ KB\n",
      "None\n",
      "\n"
     ]
    },
    {
     "data": {
      "text/html": [
       "<div>\n",
       "<style scoped>\n",
       "    .dataframe tbody tr th:only-of-type {\n",
       "        vertical-align: middle;\n",
       "    }\n",
       "\n",
       "    .dataframe tbody tr th {\n",
       "        vertical-align: top;\n",
       "    }\n",
       "\n",
       "    .dataframe thead th {\n",
       "        text-align: right;\n",
       "    }\n",
       "</style>\n",
       "<table border=\"1\" class=\"dataframe\">\n",
       "  <thead>\n",
       "    <tr style=\"text-align: right;\">\n",
       "      <th></th>\n",
       "      <th>dropoff_location_name</th>\n",
       "      <th>average_trips</th>\n",
       "    </tr>\n",
       "  </thead>\n",
       "  <tbody>\n",
       "    <tr>\n",
       "      <th>0</th>\n",
       "      <td>Loop</td>\n",
       "      <td>10727.466667</td>\n",
       "    </tr>\n",
       "    <tr>\n",
       "      <th>1</th>\n",
       "      <td>River North</td>\n",
       "      <td>9523.666667</td>\n",
       "    </tr>\n",
       "    <tr>\n",
       "      <th>2</th>\n",
       "      <td>Streeterville</td>\n",
       "      <td>6664.666667</td>\n",
       "    </tr>\n",
       "    <tr>\n",
       "      <th>3</th>\n",
       "      <td>West Loop</td>\n",
       "      <td>5163.666667</td>\n",
       "    </tr>\n",
       "    <tr>\n",
       "      <th>4</th>\n",
       "      <td>O'Hare</td>\n",
       "      <td>2546.900000</td>\n",
       "    </tr>\n",
       "    <tr>\n",
       "      <th>5</th>\n",
       "      <td>Lake View</td>\n",
       "      <td>2420.966667</td>\n",
       "    </tr>\n",
       "    <tr>\n",
       "      <th>6</th>\n",
       "      <td>Grant Park</td>\n",
       "      <td>2068.533333</td>\n",
       "    </tr>\n",
       "    <tr>\n",
       "      <th>7</th>\n",
       "      <td>Museum Campus</td>\n",
       "      <td>1510.000000</td>\n",
       "    </tr>\n",
       "    <tr>\n",
       "      <th>8</th>\n",
       "      <td>Gold Coast</td>\n",
       "      <td>1364.233333</td>\n",
       "    </tr>\n",
       "    <tr>\n",
       "      <th>9</th>\n",
       "      <td>Sheffield &amp; DePaul</td>\n",
       "      <td>1259.766667</td>\n",
       "    </tr>\n",
       "  </tbody>\n",
       "</table>\n",
       "</div>"
      ],
      "text/plain": [
       "  dropoff_location_name  average_trips\n",
       "0                  Loop   10727.466667\n",
       "1           River North    9523.666667\n",
       "2         Streeterville    6664.666667\n",
       "3             West Loop    5163.666667\n",
       "4                O'Hare    2546.900000\n",
       "5             Lake View    2420.966667\n",
       "6            Grant Park    2068.533333\n",
       "7         Museum Campus    1510.000000\n",
       "8            Gold Coast    1364.233333\n",
       "9    Sheffield & DePaul    1259.766667"
      ]
     },
     "metadata": {},
     "output_type": "display_data"
    },
    {
     "name": "stdout",
     "output_type": "stream",
     "text": [
      "Valores ausentes: \n",
      " dropoff_location_name    0\n",
      "average_trips            0\n",
      "dtype: int64\n",
      "\n",
      "Valores duplicados: \n",
      " dropoff_location_name  average_trips\n",
      "Albany Park            180.900000       1\n",
      "North Center           393.266667       1\n",
      "River North            9523.666667      1\n",
      "Pullman                3.896552         1\n",
      "Portage Park           119.733333       1\n",
      "                                       ..\n",
      "Gage Park              8.233333         1\n",
      "Fuller Park            8.166667         1\n",
      "Englewood              25.433333        1\n",
      "Edison Park            14.166667        1\n",
      "Wrigleyville           14.233333        1\n",
      "Length: 94, dtype: int64\n"
     ]
    }
   ],
   "source": [
    "print('Trips: ')\n",
    "print()\n",
    "# obtener iformación del DF\n",
    "print(trips.info())\n",
    "print()\n",
    "display(trips.head(10))\n",
    "# Evaluar valores ausentes\n",
    "print('Valores ausentes: \\n', trips.isnull().sum())\n",
    "print()\n",
    "# Evaluar valores duplicados\n",
    "print( 'Valores duplicados: \\n',trips.value_counts())"
   ]
  },
  {
   "cell_type": "markdown",
   "metadata": {},
   "source": [
    "El tipo de datos para el Data Frame trips es:\n",
    "\n",
    "dropoff_location_name: Tipo de dato object, su tipo de dato es correcto, puesto que el nombre de los barrios en Chicago corresponde a una cadena de caracteres\n",
    "\n",
    "average_trips: Tipo de dato int64, su tipo de dato es correcto, puesto que el promedio de viajes  corresponde a un número flotante.\n",
    "\n",
    "No hay vlaores ausentes ni valores duplicados."
   ]
  },
  {
   "cell_type": "markdown",
   "metadata": {},
   "source": [
    "### Neighborhoods"
   ]
  },
  {
   "cell_type": "code",
   "execution_count": 5,
   "metadata": {},
   "outputs": [
    {
     "name": "stdout",
     "output_type": "stream",
     "text": [
      "<class 'pandas.core.frame.DataFrame'>\n",
      "RangeIndex: 1068 entries, 0 to 1067\n",
      "Data columns (total 3 columns):\n",
      " #   Column              Non-Null Count  Dtype  \n",
      "---  ------              --------------  -----  \n",
      " 0   start_ts            1068 non-null   object \n",
      " 1   weather_conditions  1068 non-null   object \n",
      " 2   duration_seconds    1068 non-null   float64\n",
      "dtypes: float64(1), object(2)\n",
      "memory usage: 25.2+ KB\n",
      "None\n",
      "\n"
     ]
    },
    {
     "data": {
      "text/html": [
       "<div>\n",
       "<style scoped>\n",
       "    .dataframe tbody tr th:only-of-type {\n",
       "        vertical-align: middle;\n",
       "    }\n",
       "\n",
       "    .dataframe tbody tr th {\n",
       "        vertical-align: top;\n",
       "    }\n",
       "\n",
       "    .dataframe thead th {\n",
       "        text-align: right;\n",
       "    }\n",
       "</style>\n",
       "<table border=\"1\" class=\"dataframe\">\n",
       "  <thead>\n",
       "    <tr style=\"text-align: right;\">\n",
       "      <th></th>\n",
       "      <th>start_ts</th>\n",
       "      <th>weather_conditions</th>\n",
       "      <th>duration_seconds</th>\n",
       "    </tr>\n",
       "  </thead>\n",
       "  <tbody>\n",
       "    <tr>\n",
       "      <th>0</th>\n",
       "      <td>2017-11-25 16:00:00</td>\n",
       "      <td>Good</td>\n",
       "      <td>2410.0</td>\n",
       "    </tr>\n",
       "    <tr>\n",
       "      <th>1</th>\n",
       "      <td>2017-11-25 14:00:00</td>\n",
       "      <td>Good</td>\n",
       "      <td>1920.0</td>\n",
       "    </tr>\n",
       "    <tr>\n",
       "      <th>2</th>\n",
       "      <td>2017-11-25 12:00:00</td>\n",
       "      <td>Good</td>\n",
       "      <td>1543.0</td>\n",
       "    </tr>\n",
       "    <tr>\n",
       "      <th>3</th>\n",
       "      <td>2017-11-04 10:00:00</td>\n",
       "      <td>Good</td>\n",
       "      <td>2512.0</td>\n",
       "    </tr>\n",
       "    <tr>\n",
       "      <th>4</th>\n",
       "      <td>2017-11-11 07:00:00</td>\n",
       "      <td>Good</td>\n",
       "      <td>1440.0</td>\n",
       "    </tr>\n",
       "    <tr>\n",
       "      <th>5</th>\n",
       "      <td>2017-11-11 04:00:00</td>\n",
       "      <td>Good</td>\n",
       "      <td>1320.0</td>\n",
       "    </tr>\n",
       "    <tr>\n",
       "      <th>6</th>\n",
       "      <td>2017-11-04 16:00:00</td>\n",
       "      <td>Bad</td>\n",
       "      <td>2969.0</td>\n",
       "    </tr>\n",
       "    <tr>\n",
       "      <th>7</th>\n",
       "      <td>2017-11-18 11:00:00</td>\n",
       "      <td>Good</td>\n",
       "      <td>2280.0</td>\n",
       "    </tr>\n",
       "    <tr>\n",
       "      <th>8</th>\n",
       "      <td>2017-11-11 14:00:00</td>\n",
       "      <td>Good</td>\n",
       "      <td>2460.0</td>\n",
       "    </tr>\n",
       "    <tr>\n",
       "      <th>9</th>\n",
       "      <td>2017-11-11 12:00:00</td>\n",
       "      <td>Good</td>\n",
       "      <td>2040.0</td>\n",
       "    </tr>\n",
       "  </tbody>\n",
       "</table>\n",
       "</div>"
      ],
      "text/plain": [
       "              start_ts weather_conditions  duration_seconds\n",
       "0  2017-11-25 16:00:00               Good            2410.0\n",
       "1  2017-11-25 14:00:00               Good            1920.0\n",
       "2  2017-11-25 12:00:00               Good            1543.0\n",
       "3  2017-11-04 10:00:00               Good            2512.0\n",
       "4  2017-11-11 07:00:00               Good            1440.0\n",
       "5  2017-11-11 04:00:00               Good            1320.0\n",
       "6  2017-11-04 16:00:00                Bad            2969.0\n",
       "7  2017-11-18 11:00:00               Good            2280.0\n",
       "8  2017-11-11 14:00:00               Good            2460.0\n",
       "9  2017-11-11 12:00:00               Good            2040.0"
      ]
     },
     "metadata": {},
     "output_type": "display_data"
    },
    {
     "name": "stdout",
     "output_type": "stream",
     "text": [
      "\n",
      "Valores ausentes: \n",
      " start_ts              0\n",
      "weather_conditions    0\n",
      "duration_seconds      0\n",
      "dtype: int64\n"
     ]
    }
   ],
   "source": [
    "# obtener iformación del DF\n",
    "print(neighborhoods.info())\n",
    "print()\n",
    "display(neighborhoods.head(10))\n",
    "print()\n",
    "# Evaluar valores ausentes\n",
    "print('Valores ausentes: \\n', neighborhoods.isnull().sum())"
   ]
  },
  {
   "cell_type": "code",
   "execution_count": 6,
   "metadata": {},
   "outputs": [],
   "source": [
    "# cambiar el tipo de datos de la columna start_ts de object a fecha\n",
    "\n",
    "neighborhoods['start_ts'] = pd.to_datetime(neighborhoods['start_ts'], format = '%Y/%m/%d %H:%M:%S')"
   ]
  },
  {
   "cell_type": "code",
   "execution_count": 7,
   "metadata": {},
   "outputs": [
    {
     "name": "stdout",
     "output_type": "stream",
     "text": [
      "<class 'pandas.core.frame.DataFrame'>\n",
      "RangeIndex: 1068 entries, 0 to 1067\n",
      "Data columns (total 3 columns):\n",
      " #   Column              Non-Null Count  Dtype         \n",
      "---  ------              --------------  -----         \n",
      " 0   start_ts            1068 non-null   datetime64[ns]\n",
      " 1   weather_conditions  1068 non-null   object        \n",
      " 2   duration_seconds    1068 non-null   float64       \n",
      "dtypes: datetime64[ns](1), float64(1), object(1)\n",
      "memory usage: 25.2+ KB\n",
      "None\n"
     ]
    }
   ],
   "source": [
    "print(neighborhoods.info())"
   ]
  },
  {
   "cell_type": "markdown",
   "metadata": {},
   "source": [
    "El tipo de datos para el Data Frame neighborhoods es:\n",
    "\n",
    "start_ts: Tipo de dato object, su tipo de dato era incorrecto, puesto que la fecha y hora de la recogida aparecían como object, sin embargo estos datos deben de tener formato de datetime, por lo que se hizo la corrección cambiando el tipo de dato.\n",
    "\n",
    "weather_conditions: Tipo de dato object, su tipo de dato es correcto, puesto que las condiciones climáticas corresponde a una cadena de caracteres.\n",
    "\n",
    "duration_seconds: Tipo de dato float64, su tipo de dato es correcto, puesto que la duración del viaje en segundos corresponde a una número flotante.\n",
    "\n",
    "No hay vlaores ausentes ni valores duplicados."
   ]
  },
  {
   "cell_type": "markdown",
   "metadata": {},
   "source": [
    "## Analisis de los datos"
   ]
  },
  {
   "cell_type": "markdown",
   "metadata": {},
   "source": [
    "### Principales barrios en términos de finalización del recorrido"
   ]
  },
  {
   "cell_type": "code",
   "execution_count": 8,
   "metadata": {},
   "outputs": [
    {
     "data": {
      "text/html": [
       "<div>\n",
       "<style scoped>\n",
       "    .dataframe tbody tr th:only-of-type {\n",
       "        vertical-align: middle;\n",
       "    }\n",
       "\n",
       "    .dataframe tbody tr th {\n",
       "        vertical-align: top;\n",
       "    }\n",
       "\n",
       "    .dataframe thead th {\n",
       "        text-align: right;\n",
       "    }\n",
       "</style>\n",
       "<table border=\"1\" class=\"dataframe\">\n",
       "  <thead>\n",
       "    <tr style=\"text-align: right;\">\n",
       "      <th></th>\n",
       "      <th>dropoff_location_name</th>\n",
       "      <th>average_trips</th>\n",
       "    </tr>\n",
       "  </thead>\n",
       "  <tbody>\n",
       "    <tr>\n",
       "      <th>0</th>\n",
       "      <td>Loop</td>\n",
       "      <td>10727.466667</td>\n",
       "    </tr>\n",
       "    <tr>\n",
       "      <th>1</th>\n",
       "      <td>River North</td>\n",
       "      <td>9523.666667</td>\n",
       "    </tr>\n",
       "    <tr>\n",
       "      <th>2</th>\n",
       "      <td>Streeterville</td>\n",
       "      <td>6664.666667</td>\n",
       "    </tr>\n",
       "    <tr>\n",
       "      <th>3</th>\n",
       "      <td>West Loop</td>\n",
       "      <td>5163.666667</td>\n",
       "    </tr>\n",
       "    <tr>\n",
       "      <th>4</th>\n",
       "      <td>O'Hare</td>\n",
       "      <td>2546.900000</td>\n",
       "    </tr>\n",
       "    <tr>\n",
       "      <th>5</th>\n",
       "      <td>Lake View</td>\n",
       "      <td>2420.966667</td>\n",
       "    </tr>\n",
       "    <tr>\n",
       "      <th>6</th>\n",
       "      <td>Grant Park</td>\n",
       "      <td>2068.533333</td>\n",
       "    </tr>\n",
       "    <tr>\n",
       "      <th>7</th>\n",
       "      <td>Museum Campus</td>\n",
       "      <td>1510.000000</td>\n",
       "    </tr>\n",
       "    <tr>\n",
       "      <th>8</th>\n",
       "      <td>Gold Coast</td>\n",
       "      <td>1364.233333</td>\n",
       "    </tr>\n",
       "    <tr>\n",
       "      <th>9</th>\n",
       "      <td>Sheffield &amp; DePaul</td>\n",
       "      <td>1259.766667</td>\n",
       "    </tr>\n",
       "  </tbody>\n",
       "</table>\n",
       "</div>"
      ],
      "text/plain": [
       "  dropoff_location_name  average_trips\n",
       "0                  Loop   10727.466667\n",
       "1           River North    9523.666667\n",
       "2         Streeterville    6664.666667\n",
       "3             West Loop    5163.666667\n",
       "4                O'Hare    2546.900000\n",
       "5             Lake View    2420.966667\n",
       "6            Grant Park    2068.533333\n",
       "7         Museum Campus    1510.000000\n",
       "8            Gold Coast    1364.233333\n",
       "9    Sheffield & DePaul    1259.766667"
      ]
     },
     "metadata": {},
     "output_type": "display_data"
    }
   ],
   "source": [
    "# Obtener los 10 principales barrios en términos de finalización del recorrido\n",
    "top_10_neighborhoods = trips.sort_values(by = 'average_trips', ascending = False).head(10)\n",
    "display(top_10_neighborhoods)"
   ]
  },
  {
   "cell_type": "markdown",
   "metadata": {},
   "source": [
    "### gráficos"
   ]
  },
  {
   "cell_type": "markdown",
   "metadata": {},
   "source": [
    "#### Empresas de taxis y número de viajes"
   ]
  },
  {
   "cell_type": "code",
   "execution_count": 9,
   "metadata": {},
   "outputs": [
    {
     "data": {
      "text/html": [
       "<div>\n",
       "<style scoped>\n",
       "    .dataframe tbody tr th:only-of-type {\n",
       "        vertical-align: middle;\n",
       "    }\n",
       "\n",
       "    .dataframe tbody tr th {\n",
       "        vertical-align: top;\n",
       "    }\n",
       "\n",
       "    .dataframe thead th {\n",
       "        text-align: right;\n",
       "    }\n",
       "</style>\n",
       "<table border=\"1\" class=\"dataframe\">\n",
       "  <thead>\n",
       "    <tr style=\"text-align: right;\">\n",
       "      <th></th>\n",
       "      <th>company_name</th>\n",
       "      <th>trips_amount</th>\n",
       "    </tr>\n",
       "  </thead>\n",
       "  <tbody>\n",
       "    <tr>\n",
       "      <th>0</th>\n",
       "      <td>Flash Cab</td>\n",
       "      <td>19558</td>\n",
       "    </tr>\n",
       "    <tr>\n",
       "      <th>1</th>\n",
       "      <td>Taxi Affiliation Services</td>\n",
       "      <td>11422</td>\n",
       "    </tr>\n",
       "    <tr>\n",
       "      <th>2</th>\n",
       "      <td>Medallion Leasing</td>\n",
       "      <td>10367</td>\n",
       "    </tr>\n",
       "    <tr>\n",
       "      <th>3</th>\n",
       "      <td>Yellow Cab</td>\n",
       "      <td>9888</td>\n",
       "    </tr>\n",
       "    <tr>\n",
       "      <th>4</th>\n",
       "      <td>Taxi Affiliation Service Yellow</td>\n",
       "      <td>9299</td>\n",
       "    </tr>\n",
       "    <tr>\n",
       "      <th>5</th>\n",
       "      <td>Chicago Carriage Cab Corp</td>\n",
       "      <td>9181</td>\n",
       "    </tr>\n",
       "    <tr>\n",
       "      <th>6</th>\n",
       "      <td>City Service</td>\n",
       "      <td>8448</td>\n",
       "    </tr>\n",
       "    <tr>\n",
       "      <th>7</th>\n",
       "      <td>Sun Taxi</td>\n",
       "      <td>7701</td>\n",
       "    </tr>\n",
       "    <tr>\n",
       "      <th>8</th>\n",
       "      <td>Star North Management LLC</td>\n",
       "      <td>7455</td>\n",
       "    </tr>\n",
       "    <tr>\n",
       "      <th>9</th>\n",
       "      <td>Blue Ribbon Taxi Association Inc.</td>\n",
       "      <td>5953</td>\n",
       "    </tr>\n",
       "    <tr>\n",
       "      <th>10</th>\n",
       "      <td>Choice Taxi Association</td>\n",
       "      <td>5015</td>\n",
       "    </tr>\n",
       "    <tr>\n",
       "      <th>11</th>\n",
       "      <td>Globe Taxi</td>\n",
       "      <td>4383</td>\n",
       "    </tr>\n",
       "    <tr>\n",
       "      <th>12</th>\n",
       "      <td>Dispatch Taxi Affiliation</td>\n",
       "      <td>3355</td>\n",
       "    </tr>\n",
       "    <tr>\n",
       "      <th>13</th>\n",
       "      <td>Nova Taxi Affiliation Llc</td>\n",
       "      <td>3175</td>\n",
       "    </tr>\n",
       "    <tr>\n",
       "      <th>14</th>\n",
       "      <td>Patriot Taxi Dba Peace Taxi Association</td>\n",
       "      <td>2235</td>\n",
       "    </tr>\n",
       "    <tr>\n",
       "      <th>15</th>\n",
       "      <td>Checker Taxi Affiliation</td>\n",
       "      <td>2216</td>\n",
       "    </tr>\n",
       "    <tr>\n",
       "      <th>16</th>\n",
       "      <td>Blue Diamond</td>\n",
       "      <td>2070</td>\n",
       "    </tr>\n",
       "    <tr>\n",
       "      <th>17</th>\n",
       "      <td>Chicago Medallion Management</td>\n",
       "      <td>1955</td>\n",
       "    </tr>\n",
       "    <tr>\n",
       "      <th>18</th>\n",
       "      <td>24 Seven Taxi</td>\n",
       "      <td>1775</td>\n",
       "    </tr>\n",
       "    <tr>\n",
       "      <th>19</th>\n",
       "      <td>Chicago Medallion Leasing INC</td>\n",
       "      <td>1607</td>\n",
       "    </tr>\n",
       "  </tbody>\n",
       "</table>\n",
       "</div>"
      ],
      "text/plain": [
       "                               company_name  trips_amount\n",
       "0                                 Flash Cab         19558\n",
       "1                 Taxi Affiliation Services         11422\n",
       "2                         Medallion Leasing         10367\n",
       "3                                Yellow Cab          9888\n",
       "4           Taxi Affiliation Service Yellow          9299\n",
       "5                 Chicago Carriage Cab Corp          9181\n",
       "6                              City Service          8448\n",
       "7                                  Sun Taxi          7701\n",
       "8                 Star North Management LLC          7455\n",
       "9         Blue Ribbon Taxi Association Inc.          5953\n",
       "10                  Choice Taxi Association          5015\n",
       "11                               Globe Taxi          4383\n",
       "12                Dispatch Taxi Affiliation          3355\n",
       "13                Nova Taxi Affiliation Llc          3175\n",
       "14  Patriot Taxi Dba Peace Taxi Association          2235\n",
       "15                 Checker Taxi Affiliation          2216\n",
       "16                             Blue Diamond          2070\n",
       "17             Chicago Medallion Management          1955\n",
       "18                            24 Seven Taxi          1775\n",
       "19            Chicago Medallion Leasing INC          1607"
      ]
     },
     "metadata": {},
     "output_type": "display_data"
    },
    {
     "data": {
      "text/plain": [
       "<Figure size 1000x600 with 0 Axes>"
      ]
     },
     "metadata": {},
     "output_type": "display_data"
    },
    {
     "data": {
      "image/png": "[encoded data removed]",
      "text/plain": [
       "<Figure size 640x480 with 1 Axes>"
      ]
     },
     "metadata": {},
     "output_type": "display_data"
    }
   ],
   "source": [
    "# Obtener las primeras 20 empresas en cuanto a la cantidad de viajes\n",
    "top_20_cabs = cabs.sort_values(by = 'trips_amount', ascending = False).head(20)\n",
    "display(top_20_cabs)\n",
    "plt.figure(figsize=(10, 6))\n",
    "top_20_cabs.plot(x= 'company_name',\n",
    "         kind = 'bar',\n",
    "          title = 'Cantidad de viajes por cada empresa de taxi el 15 y 16 de Noviemvre de 2017',\n",
    "          xlabel = 'Empresas de taxis',\n",
    "          ylabel = 'Número de viajes',\n",
    "         )\n",
    "\n",
    "plt.grid(axis = 'y')\n",
    "\n",
    "plt.show()\n"
   ]
  },
  {
   "cell_type": "markdown",
   "metadata": {},
   "source": [
    "El gráfico muestra la cantidad de viajes realizados por las principales empresas de taxis durante el 15 y 16 de noviembre de 2017.\n",
    "\n",
    "Se tomaron las 20 empresas de taxis con mayor cantidad de viajes durante estos días, puesto que las otras empresas no tuvieron una cantidad de viajes significativa.\n",
    "\n",
    "\n",
    "A partir de la observación del gráfico se puede concluir:\n",
    "\n",
    "\n",
    "1. Flash Cab es la empresa con mayor cantidad de viajes, con aproximadamente 19558 viajes realizados durante el 15 y 16 de Noviembre del 2017. Esto podría indicar que Flash Cab es una de las opciones de transporte más populares entre los usuarios de taxis en Chicago durante ese período.\n",
    "\n",
    "2. Las empresas que le siguen en cantidad de viajes son Taxi Affiliation Services (11422 viajes) y Medallion Leasing (10367 viajes), mostrando una diferencia significativa en comparación con la empresa líder, Flash Cab, pero aún así con números considerables.\n",
    "\n",
    "3. También se observa una variabilidad considerable entre las cantidades de viajes realizados por las diferentes empresas, lo que indica una distribución no uniforme del mercado entre los proveedores de servicios de taxi en Chicago."
   ]
  },
  {
   "cell_type": "markdown",
   "metadata": {},
   "source": [
    "#### 10 barrios principales por número de finalizaciones"
   ]
  },
  {
   "cell_type": "code",
   "execution_count": 10,
   "metadata": {},
   "outputs": [
    {
     "data": {
      "text/plain": [
       "<Figure size 1000x600 with 0 Axes>"
      ]
     },
     "metadata": {},
     "output_type": "display_data"
    },
    {
     "data": {
      "image/png": "[encoded data removed]",
      "text/plain": [
       "<Figure size 640x480 with 1 Axes>"
      ]
     },
     "metadata": {},
     "output_type": "display_data"
    }
   ],
   "source": [
    "plt.figure(figsize = (10,6))\n",
    "top_10_neighborhoods.plot(x = 'dropoff_location_name',\n",
    "                         kind = 'bar',\n",
    "                          title = 'Los 10 Principales Barrios por Número de Finalizaciones',\n",
    "                          xlabel = 'Barrio',\n",
    "                          ylabel= 'Promedio de viajes'\n",
    "                         )\n",
    "\n",
    "plt.grid(axis = 'y')\n",
    "\n",
    "plt.show()"
   ]
  },
  {
   "cell_type": "markdown",
   "metadata": {},
   "source": [
    "Este gráfico muestra los 10 principales barrios de Chicago en términos del promedio de viajes que finalizan en cada uno de ellos.\n",
    "\n",
    "A partir de la observación del gráfico se puede concluir:\n",
    "\n",
    "1. Loop es el barrio con la mayor cantidad promedio de viajes que finalizan en él, con aproximadamente 10727 viajes en promedio durante el mes de noviembre de 2017. Esto podría indicar que el barrio Loop es una de las áreas más transitadas de la ciudad, por lo tanto una de las áreas mayormente frecuentada por los taxis durante el mes de Noviembre en la ciudad de Chicago\n",
    "\n",
    "2. River North con un promedio de 9524 viajes, seguido por Streeterville con 6664 viajes en promedio. Estos son barrios que también muestran una alta demanda de servicios de taxi.\n",
    "\n",
    "3. Otros barrios como West Loop, O'Hare, Lake View, y Grant Park también muestran un promedio considerable de viajes de taxi, lo que indica que son áreas importantes de actividad y destino en la ciudad de Chicago."
   ]
  },
  {
   "cell_type": "markdown",
   "metadata": {},
   "source": [
    "## Prueba de hipótesis "
   ]
  },
  {
   "cell_type": "markdown",
   "metadata": {},
   "source": [
    "Hipótesis nula H0 =  La duración promedio de los viajes desde el Loop hasta el Aeropuerto Internacional O'Hare no cambia los sábados lluviosos.\n",
    "\n",
    "Hipótesis alternativa = La duración promedio de los viajes desde el Loop hasta el Aeropuerto Internacional O'Hare cambia los sábados lluviosos\n",
    "\n",
    "alpha = 0.05 Voy a usar el nivel estandar\n",
    "\n",
    "Hipótesis sobre la igualdad de las medias de dos poblaciones\n",
    "\n",
    "Prueba estadística = Prueba ttest"
   ]
  },
  {
   "cell_type": "code",
   "execution_count": 11,
   "metadata": {},
   "outputs": [
    {
     "name": "stdout",
     "output_type": "stream",
     "text": [
      "Estadístico de Levene: 0.38853489683656073\n",
      "Valor p:  6.738994326108734e-12\n",
      "Rechazamos la hipótesis nula\n"
     ]
    }
   ],
   "source": [
    "# Extraer el dia sabado \n",
    "saturday = neighborhoods[neighborhoods['start_ts'].dt.day_name() == 'Saturday']\n",
    "\n",
    "# Filtrar los dias de acuerdo al estado del clima\n",
    "\n",
    "avg_trips_duration_bad_sat = saturday[saturday['weather_conditions'] == 'Bad']['duration_seconds']\n",
    "avg_trips_duration_good_sat = saturday[saturday['weather_conditions'] == 'Good']['duration_seconds']\n",
    "\n",
    "alpha = 0.05\n",
    "\n",
    "results = st.ttest_ind(avg_trips_duration_bad_sat, avg_trips_duration_good_sat, equal_var = False)\n",
    "\n",
    "# Realizar la prueba de igualdad de varianzas usando el test de Levene\n",
    "statistic, p_value = st.levene(avg_trips_duration_bad_sat, avg_trips_duration_good_sat)\n",
    "\n",
    "print('Estadístico de Levene:', statistic)\n",
    "\n",
    "print('Valor p: ', results.pvalue)\n",
    "\n",
    "# compara los valores p obtenidos con el nivel de significación estadística\n",
    "\n",
    "if results.pvalue < alpha:\n",
    "    print(\"Rechazamos la hipótesis nula\")\n",
    "else:\n",
    "    print(\"No podemos rechazar la hipótesis nula\")\n"
   ]
  },
  {
   "cell_type": "markdown",
   "metadata": {},
   "source": [
    "### cómo planteaste las hipótesis nula y alternativa"
   ]
  },
  {
   "cell_type": "markdown",
   "metadata": {},
   "source": [
    "La H₀ suele expresar la idea de que no hay diferencias entre los grupos. Esta hipótesis nula supone que no hay ningún cambio o efecto, esta hipótesis suele darse por cierta hasta que se presentan pruebas que la desmienten.\n",
    "\n",
    "utilizamos la hipótesis nula para asegurarnos de que los valores obtenidos en el experimento no son extremos, sino que caen dentro del rango esperado.\n",
    "\n",
    "La elección de la hipótesis nula se basó en la idea de que no hay diferencias entre los grupos, y se estableció una significancia alfa de 0.05, que es un valor comúnmente utilizado como estándar en la mayoría de las pruebas de hipótesis.\n",
    "\n",
    "En este caso la hipótesis nula es \"La duración promedio de los viajes desde el Loop hasta el Aeropuerto Internacional O'Hare no cambia los sábados lluviosos\", se eligío como hipótesis nula porque expresa la idea de que no hay diferencias entre los grupos.\n",
    "\n",
    "La hipótesis alternativa, H₁, se basa en H₀\n",
    "\n",
    "Hipótesis nula = La duración promedio de los viajes desde el Loop hasta el Aeropuerto Internacional O'Hare no cambia los sábados lluviosos\n",
    "\n",
    "Hipótesis alternativa = La duración promedio de los viajes desde el Loop hasta el Aeropuerto Internacional O'Hare cambia los sábados lluviosos"
   ]
  },
  {
   "cell_type": "markdown",
   "metadata": {},
   "source": [
    "### Qué criterio utilizaste para probar las hipótesis y por qué."
   ]
  },
  {
   "cell_type": "markdown",
   "metadata": {},
   "source": [
    "La prueba t de Student (t-test) se utilizó en este análisis para comparar las medias de dos muestras independientes: La duración promedio de los viajes desde el Loop hasta el Aeropuerto Internacional O'Hare los días sábados con mal tiempo o lluvioso (weather_conditions = 'Bad') y los sábados con buen tiempo o soleados (weather_conditions = 'Good'). Se optó por esta prueba estadística debido a que se estaban comparando dos grupos diferentes y se quería determinar si las diferencias observadas entre las medias de estos grupos eran estadísticamente significativas.\n",
    "\n",
    "Para el valor de alpha se eligí 0.05, siendo este un valor a nivel estandar.\n",
    "\n",
    "Prueba estadística = Prueba ttest\n",
    "\n",
    "El valor p obtenido (6.738994326108734e-12) fue  menor que el nivel de significancia alpha (0.05), lo que indica que hay evidencia suficiente para rechazar la hipótesis nula. Por lo tanto, se concluye que posiblemente la duración promedio de los viajes desde el Loop hasta el Aeropuerto Internacional O'Hare cambia los sábados lluviosos"
   ]
  },
  {
   "cell_type": "markdown",
   "metadata": {},
   "source": [
    "## Conclusiones Generales"
   ]
  },
  {
   "cell_type": "markdown",
   "metadata": {},
   "source": [
    "1. Cantidad de viajes de las diferentes empresas de taxis en la ciudad de Chicago\n",
    "\n",
    "\n",
    "Durante el período de estudio, se identificaron las principales empresas de taxis en Chicago en función del número de viajes realizados. Este estudio nos indica que Flash Cab, Taxi Affiliation Services y Medallion Leasing ocuparon las primeras posiciones en términos de cantidad de viajes realizados, con una cantidad significativa durante los días 15 y 16 de noviembre de 2017. \n",
    "\n",
    "2. Principales barrios de Chicago en cuanto al promedio de viajes que finalizaron en estos.\n",
    "\n",
    "\n",
    "Los resultados mostraron que Loop, River North y Streeterville fueron los barrios más transitados, con una alta demanda de servicios de taxi. Esto pudiendo indicar que estos barrios son los más populares en la ciudad, y las personas prefieren ir a estos con mayor frecuencia a la hora de usar taxi.\n",
    "\n",
    "3. Impacto del clima en la duración de los viajes\n",
    "\n",
    "Se realizó una prueba de hipótesis para comparar la duración promedio de los viajes desde el Loop hasta el Aeropuerto Internacional O'Hare en días lluviosos y soleados. Los resultados indicaron diferencias significativas en la duración de los viajes entre días con mal tiempo y días soleados, lo que sugiere un efecto del clima en la movilidad urbana."
   ]
  }
 ],
 "metadata": {
  "ExecuteTimeLog": [
   {
    "duration": 5068,
    "start_time": "2024-05-17T00:52:09.594Z"
   },
   {
    "duration": 1180,
    "start_time": "2024-05-17T00:58:25.205Z"
   },
   {
    "duration": 22,
    "start_time": "2024-05-17T00:58:46.594Z"
   },
   {
    "duration": 10,
    "start_time": "2024-05-17T00:59:04.509Z"
   },
   {
    "duration": 15,
    "start_time": "2024-05-17T00:59:24.295Z"
   },
   {
    "duration": 24,
    "start_time": "2024-05-17T01:00:13.250Z"
   },
   {
    "duration": 24,
    "start_time": "2024-05-17T01:00:21.933Z"
   },
   {
    "duration": 12,
    "start_time": "2024-05-17T01:01:13.729Z"
   },
   {
    "duration": 11,
    "start_time": "2024-05-17T01:01:22.073Z"
   },
   {
    "duration": 12,
    "start_time": "2024-05-17T01:01:57.702Z"
   },
   {
    "duration": 24,
    "start_time": "2024-05-17T01:03:47.336Z"
   },
   {
    "duration": 19,
    "start_time": "2024-05-17T01:03:55.306Z"
   },
   {
    "duration": 10,
    "start_time": "2024-05-17T01:04:07.102Z"
   },
   {
    "duration": 22,
    "start_time": "2024-05-17T01:05:12.887Z"
   },
   {
    "duration": 21,
    "start_time": "2024-05-17T01:05:26.459Z"
   },
   {
    "duration": 21,
    "start_time": "2024-05-17T01:05:43.232Z"
   },
   {
    "duration": 20,
    "start_time": "2024-05-17T01:05:49.643Z"
   },
   {
    "duration": 20,
    "start_time": "2024-05-17T01:06:07.127Z"
   },
   {
    "duration": 20,
    "start_time": "2024-05-17T01:10:47.397Z"
   },
   {
    "duration": 3,
    "start_time": "2024-05-17T01:14:23.999Z"
   },
   {
    "duration": 30,
    "start_time": "2024-05-17T01:15:04.672Z"
   },
   {
    "duration": 3,
    "start_time": "2024-05-17T01:16:13.284Z"
   },
   {
    "duration": 36,
    "start_time": "2024-05-17T01:17:09.386Z"
   },
   {
    "duration": 27,
    "start_time": "2024-05-17T01:17:48.191Z"
   },
   {
    "duration": 295,
    "start_time": "2024-05-17T01:29:35.487Z"
   },
   {
    "duration": 165,
    "start_time": "2024-05-17T01:29:57.167Z"
   },
   {
    "duration": 6,
    "start_time": "2024-05-17T01:30:56.965Z"
   },
   {
    "duration": 8,
    "start_time": "2024-05-17T01:31:11.990Z"
   },
   {
    "duration": 16,
    "start_time": "2024-05-17T01:31:18.660Z"
   },
   {
    "duration": 8,
    "start_time": "2024-05-17T01:38:40.694Z"
   },
   {
    "duration": 20,
    "start_time": "2024-05-17T01:41:24.640Z"
   },
   {
    "duration": 3,
    "start_time": "2024-05-17T01:41:30.602Z"
   },
   {
    "duration": 1495,
    "start_time": "2024-05-17T01:41:37.498Z"
   },
   {
    "duration": 19,
    "start_time": "2024-05-17T01:41:38.997Z"
   },
   {
    "duration": 11,
    "start_time": "2024-05-17T01:41:39.019Z"
   },
   {
    "duration": 37,
    "start_time": "2024-05-17T01:41:39.034Z"
   },
   {
    "duration": 65,
    "start_time": "2024-05-17T01:41:39.074Z"
   },
   {
    "duration": 29,
    "start_time": "2024-05-17T01:41:39.143Z"
   },
   {
    "duration": 7,
    "start_time": "2024-05-17T01:41:39.176Z"
   },
   {
    "duration": 48,
    "start_time": "2024-05-17T01:41:39.191Z"
   },
   {
    "duration": 5,
    "start_time": "2024-05-17T01:41:51.217Z"
   },
   {
    "duration": 487,
    "start_time": "2024-05-17T01:44:56.617Z"
   },
   {
    "duration": 42,
    "start_time": "2024-05-17T01:45:22.833Z"
   },
   {
    "duration": 32,
    "start_time": "2024-05-17T01:45:34.966Z"
   },
   {
    "duration": 28,
    "start_time": "2024-05-17T01:46:02.840Z"
   },
   {
    "duration": 27,
    "start_time": "2024-05-17T01:46:55.513Z"
   },
   {
    "duration": 8,
    "start_time": "2024-05-17T01:47:13.366Z"
   },
   {
    "duration": 18,
    "start_time": "2024-05-17T01:47:22.298Z"
   },
   {
    "duration": 5,
    "start_time": "2024-05-17T01:47:46.555Z"
   },
   {
    "duration": 11,
    "start_time": "2024-05-17T01:47:54.915Z"
   },
   {
    "duration": 15,
    "start_time": "2024-05-17T01:48:09.512Z"
   },
   {
    "duration": 12,
    "start_time": "2024-05-17T01:48:26.193Z"
   },
   {
    "duration": 12,
    "start_time": "2024-05-17T01:48:46.648Z"
   },
   {
    "duration": 9,
    "start_time": "2024-05-17T02:00:18.903Z"
   },
   {
    "duration": 1916,
    "start_time": "2024-05-17T02:00:26.491Z"
   },
   {
    "duration": 364,
    "start_time": "2024-05-17T02:01:45.629Z"
   },
   {
    "duration": 1364,
    "start_time": "2024-05-17T02:09:00.235Z"
   },
   {
    "duration": 349,
    "start_time": "2024-05-17T02:09:12.890Z"
   },
   {
    "duration": 372,
    "start_time": "2024-05-17T02:09:30.908Z"
   },
   {
    "duration": 473,
    "start_time": "2024-05-17T02:09:38.474Z"
   },
   {
    "duration": 344,
    "start_time": "2024-05-17T02:10:46.018Z"
   },
   {
    "duration": 284,
    "start_time": "2024-05-17T02:10:54.668Z"
   },
   {
    "duration": 312,
    "start_time": "2024-05-17T02:11:38.008Z"
   },
   {
    "duration": 284,
    "start_time": "2024-05-17T02:13:34.330Z"
   },
   {
    "duration": 2166,
    "start_time": "2024-05-17T02:14:21.050Z"
   },
   {
    "duration": 338,
    "start_time": "2024-05-17T02:16:00.882Z"
   },
   {
    "duration": 1935,
    "start_time": "2024-05-17T02:16:08.662Z"
   },
   {
    "duration": 2204,
    "start_time": "2024-05-17T02:16:50.323Z"
   },
   {
    "duration": 344,
    "start_time": "2024-05-17T02:17:10.436Z"
   },
   {
    "duration": 359,
    "start_time": "2024-05-17T02:17:15.308Z"
   },
   {
    "duration": 13,
    "start_time": "2024-05-17T02:17:39.172Z"
   },
   {
    "duration": 504,
    "start_time": "2024-05-17T02:17:42.556Z"
   },
   {
    "duration": 14,
    "start_time": "2024-05-17T02:18:03.505Z"
   },
   {
    "duration": 444,
    "start_time": "2024-05-17T02:18:11.776Z"
   },
   {
    "duration": 452,
    "start_time": "2024-05-17T02:18:23.018Z"
   },
   {
    "duration": 1321,
    "start_time": "2024-05-17T02:18:35.365Z"
   },
   {
    "duration": 25,
    "start_time": "2024-05-17T02:18:36.690Z"
   },
   {
    "duration": 50,
    "start_time": "2024-05-17T02:18:36.719Z"
   },
   {
    "duration": 68,
    "start_time": "2024-05-17T02:18:36.776Z"
   },
   {
    "duration": 29,
    "start_time": "2024-05-17T02:18:36.847Z"
   },
   {
    "duration": 47,
    "start_time": "2024-05-17T02:18:36.879Z"
   },
   {
    "duration": 14,
    "start_time": "2024-05-17T02:18:36.929Z"
   },
   {
    "duration": 12,
    "start_time": "2024-05-17T02:18:36.947Z"
   },
   {
    "duration": 577,
    "start_time": "2024-05-17T02:18:36.962Z"
   },
   {
    "duration": 301,
    "start_time": "2024-05-17T02:18:37.545Z"
   },
   {
    "duration": 519,
    "start_time": "2024-05-17T02:19:53.942Z"
   },
   {
    "duration": 435,
    "start_time": "2024-05-17T02:48:07.286Z"
   },
   {
    "duration": 28,
    "start_time": "2024-05-17T02:52:36.719Z"
   },
   {
    "duration": 31,
    "start_time": "2024-05-17T02:52:52.139Z"
   },
   {
    "duration": 11,
    "start_time": "2024-05-17T02:55:10.943Z"
   },
   {
    "duration": 23,
    "start_time": "2024-05-17T02:55:22.757Z"
   },
   {
    "duration": 62,
    "start_time": "2024-05-17T02:58:07.356Z"
   },
   {
    "duration": 811,
    "start_time": "2024-05-17T02:58:53.315Z"
   },
   {
    "duration": 154,
    "start_time": "2024-05-17T02:59:28.240Z"
   },
   {
    "duration": 21,
    "start_time": "2024-05-17T03:02:02.920Z"
   },
   {
    "duration": 13,
    "start_time": "2024-05-17T03:02:13.411Z"
   },
   {
    "duration": 16,
    "start_time": "2024-05-17T03:02:46.627Z"
   },
   {
    "duration": 16,
    "start_time": "2024-05-17T03:03:42.523Z"
   },
   {
    "duration": 4,
    "start_time": "2024-05-17T03:17:44.988Z"
   },
   {
    "duration": 1379,
    "start_time": "2024-05-17T03:22:45.435Z"
   },
   {
    "duration": 30,
    "start_time": "2024-05-17T03:22:46.817Z"
   },
   {
    "duration": 36,
    "start_time": "2024-05-17T03:22:46.850Z"
   },
   {
    "duration": 59,
    "start_time": "2024-05-17T03:22:46.891Z"
   },
   {
    "duration": 28,
    "start_time": "2024-05-17T03:22:46.954Z"
   },
   {
    "duration": 42,
    "start_time": "2024-05-17T03:22:46.986Z"
   },
   {
    "duration": 16,
    "start_time": "2024-05-17T03:22:47.033Z"
   },
   {
    "duration": 29,
    "start_time": "2024-05-17T03:22:47.052Z"
   },
   {
    "duration": 573,
    "start_time": "2024-05-17T03:22:47.084Z"
   },
   {
    "duration": 338,
    "start_time": "2024-05-17T03:22:47.662Z"
   },
   {
    "duration": 25,
    "start_time": "2024-05-17T03:22:48.003Z"
   },
   {
    "duration": 1289,
    "start_time": "2024-05-17T03:34:18.390Z"
   },
   {
    "duration": 22,
    "start_time": "2024-05-17T03:34:19.683Z"
   },
   {
    "duration": 44,
    "start_time": "2024-05-17T03:34:19.708Z"
   },
   {
    "duration": 31,
    "start_time": "2024-05-17T03:34:19.755Z"
   },
   {
    "duration": 62,
    "start_time": "2024-05-17T03:34:19.790Z"
   },
   {
    "duration": 7,
    "start_time": "2024-05-17T03:34:19.855Z"
   },
   {
    "duration": 19,
    "start_time": "2024-05-17T03:34:19.872Z"
   },
   {
    "duration": 12,
    "start_time": "2024-05-17T03:34:19.927Z"
   },
   {
    "duration": 548,
    "start_time": "2024-05-17T03:34:19.943Z"
   },
   {
    "duration": 296,
    "start_time": "2024-05-17T03:34:20.495Z"
   },
   {
    "duration": 35,
    "start_time": "2024-05-17T03:34:20.794Z"
   },
   {
    "duration": 1336,
    "start_time": "2024-05-17T03:36:08.966Z"
   },
   {
    "duration": 32,
    "start_time": "2024-05-17T03:36:10.307Z"
   },
   {
    "duration": 38,
    "start_time": "2024-05-17T03:36:10.342Z"
   },
   {
    "duration": 56,
    "start_time": "2024-05-17T03:36:10.383Z"
   },
   {
    "duration": 29,
    "start_time": "2024-05-17T03:36:10.444Z"
   },
   {
    "duration": 8,
    "start_time": "2024-05-17T03:36:10.476Z"
   },
   {
    "duration": 54,
    "start_time": "2024-05-17T03:36:10.487Z"
   },
   {
    "duration": 12,
    "start_time": "2024-05-17T03:36:10.544Z"
   },
   {
    "duration": 553,
    "start_time": "2024-05-17T03:36:10.561Z"
   },
   {
    "duration": 325,
    "start_time": "2024-05-17T03:36:11.126Z"
   },
   {
    "duration": 17,
    "start_time": "2024-05-17T03:36:11.455Z"
   },
   {
    "duration": 1327,
    "start_time": "2024-07-26T01:43:45.137Z"
   },
   {
    "duration": 55,
    "start_time": "2024-07-26T01:43:46.495Z"
   },
   {
    "duration": 95,
    "start_time": "2024-07-26T01:43:46.553Z"
   },
   {
    "duration": 57,
    "start_time": "2024-07-26T01:43:46.654Z"
   },
   {
    "duration": 36,
    "start_time": "2024-07-26T01:43:46.715Z"
   },
   {
    "duration": 7,
    "start_time": "2024-07-26T01:43:46.754Z"
   },
   {
    "duration": 18,
    "start_time": "2024-07-26T01:43:46.808Z"
   },
   {
    "duration": 15,
    "start_time": "2024-07-26T01:43:46.830Z"
   },
   {
    "duration": 593,
    "start_time": "2024-07-26T01:43:46.849Z"
   },
   {
    "duration": 431,
    "start_time": "2024-07-26T01:43:47.450Z"
   },
   {
    "duration": 29,
    "start_time": "2024-07-26T01:43:47.885Z"
   }
  ],
  "kernelspec": {
   "display_name": "Python 3 (ipykernel)",
   "language": "python",
   "name": "python3"
  },
  "language_info": {
   "codemirror_mode": {
    "name": "ipython",
    "version": 3
   },
   "file_extension": ".py",
   "mimetype": "text/x-python",
   "name": "python",
   "nbconvert_exporter": "python",
   "pygments_lexer": "ipython3",
   "version": "3.9.19"
  },
  "toc": {
   "base_numbering": 1,
   "nav_menu": {},
   "number_sections": true,
   "sideBar": true,
   "skip_h1_title": true,
   "title_cell": "Table of Contents",
   "title_sidebar": "Contents",
   "toc_cell": false,
   "toc_position": {},
   "toc_section_display": true,
   "toc_window_display": false
  }
 },
 "nbformat": 4,
 "nbformat_minor": 2
}
